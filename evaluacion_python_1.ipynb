{
 "cells": [
  {
   "attachments": {},
   "cell_type": "markdown",
   "metadata": {},
   "source": [
    "**Métodos de *strings***\n",
    "\n",
    "Dado el siguiente *string* \n",
    "\n",
    "```python\n",
    "\n",
    "string = \"\"\"Hoy estamos en una clase de repaso,\n",
    "el objetivo es intentar solucionar todas vuestras dudas, \n",
    "preguntad todo lo que queráis! \n",
    "\"\"\"\n",
    "```\n",
    "\n",
    "\n",
    "Contesta a las siguientes preguntas: \n",
    "\n",
    "1️⃣ Crea dos variables nuevas: \n",
    "    - Una con el *string* en mayúsculas\n",
    "    - Otra con las letras en minúsculas\n",
    "\n",
    "2️⃣ Pon todas las primeras letras del *string* en mayúscula\n",
    "\n",
    "3️⃣ Separa el *string*  por los espacios y almacena el resultado en una lista llamanda `texto_lista`\n",
    "\n",
    "4️⃣ De la lista obtenida en el ejercicio anterior, selecciona solo los 5 primero elementos y almacena los resultados en una variable que se llame `texto_lista_corta` \n",
    "\n",
    "5️⃣ De la lista obtenida en el ejercicio 5. Vuelve a convertirlo en *string* \n",
    "\n",
    "6️⃣ Con el *string* obtenido en el paso anterior: \n",
    "\n",
    "    - Esta la palabra \"el\" en el *string* \n",
    "\n",
    "    - Reemplaza \"Hoy\" por nada\n",
    "\n",
    "    - El ejercicio anterior nos ha dejado espacios al inicio del string, eliminalos\n"
   ]
  },
  {
   "cell_type": "code",
   "execution_count": 1,
   "metadata": {},
   "outputs": [],
   "source": [
    "# primero creamos el string en python\n",
    "string = 'Hoy estamos en una clase de repaso, el objetivo es intentar solucionar todas vuestras dudas, preguntad todo lo que queráis!'"
   ]
  },
  {
   "cell_type": "code",
   "execution_count": 2,
   "metadata": {},
   "outputs": [
    {
     "name": "stdout",
     "output_type": "stream",
     "text": [
      "string_mayus = HOY ESTAMOS EN UNA CLASE DE REPASO, EL OBJETIVO ES INTENTAR SOLUCIONAR TODAS VUESTRAS DUDAS, PREGUNTAD TODO LO QUE QUERÁIS!\n",
      "string_minus = hoy estamos en una clase de repaso, el objetivo es intentar solucionar todas vuestras dudas, preguntad todo lo que queráis!\n"
     ]
    }
   ],
   "source": [
    "#1. crear una variable con todas las letras en MAYUS (método upper)y otra con todas en minus (metodo lower). Los printeamos para comprobar que todo está correcto:\n",
    "string_mayus = string.upper()\n",
    "print('string_mayus =', string_mayus)\n",
    "string_minus = string.lower()\n",
    "print('string_minus =', string_minus)"
   ]
  },
  {
   "cell_type": "code",
   "execution_count": 3,
   "metadata": {},
   "outputs": [
    {
     "name": "stdout",
     "output_type": "stream",
     "text": [
      "Hoy Estamos En Una Clase De Repaso, El Objetivo Es Intentar Solucionar Todas Vuestras Dudas, Preguntad Todo Lo Que Queráis!\n"
     ]
    }
   ],
   "source": [
    "#2. Poner todas las primeras letras del string en MAYUS. Para ello utilizamos el metodo .title()\n",
    "string_title = string.title()\n",
    "print(string_title)"
   ]
  },
  {
   "cell_type": "code",
   "execution_count": 4,
   "metadata": {},
   "outputs": [
    {
     "name": "stdout",
     "output_type": "stream",
     "text": [
      "['Hoy', 'estamos', 'en', 'una', 'clase', 'de', 'repaso,', 'el', 'objetivo', 'es', 'intentar', 'solucionar', 'todas', 'vuestras', 'dudas,', 'preguntad', 'todo', 'lo', 'que', 'queráis!']\n"
     ]
    }
   ],
   "source": [
    "#3. Separa el *string* por los espacios y almacena el resultado en una lista llamanda `texto_lista`\n",
    "# para separar los elementos del string utilizamos el metodo .split() y lo guardamos en la nueva variable.\n",
    "texto_lista = string.split()\n",
    "print(texto_lista)"
   ]
  },
  {
   "cell_type": "code",
   "execution_count": 5,
   "metadata": {},
   "outputs": [
    {
     "name": "stdout",
     "output_type": "stream",
     "text": [
      "['Hoy', 'estamos', 'en', 'una', 'clase']\n"
     ]
    }
   ],
   "source": [
    "#4. De texto_lista, selecciona solo los 5 primeros elementos y almacena los resultados en una variable que se llame `texto_lista_corta`.\n",
    "# para realizar este ejercicio nos servimos de los indices\n",
    "texto_lista_corta = texto_lista[:5]\n",
    "print(texto_lista_corta)"
   ]
  },
  {
   "cell_type": "code",
   "execution_count": 9,
   "metadata": {},
   "outputs": [
    {
     "name": "stdout",
     "output_type": "stream",
     "text": [
      "Hoy estamos en una clase\n"
     ]
    }
   ],
   "source": [
    "#5. De la lista obtenida en el ejercicio 5. Vuelve a convertirlo en *string*\n",
    "# para ello podemos usar el método .join(), almacenándolo en una nueva variable que lo defina como string\n",
    "string_lista_corta = \" \".join(texto_lista_corta)\n",
    "print(string_lista_corta)"
   ]
  },
  {
   "cell_type": "code",
   "execution_count": 11,
   "metadata": {},
   "outputs": [
    {
     "name": "stdout",
     "output_type": "stream",
     "text": [
      "¿Se encuenta \"el\" en la lista? = False\n",
      "  estamos en una clase\n",
      "estamos en una clase\n"
     ]
    }
   ],
   "source": [
    "#6. Con el *string* obtenido en el paso anterior: \n",
    "#6.1 Esta la palabra \"el\" en el *string* \n",
    "print('¿Se encuenta \"el\" en la lista? =','el' in string_lista_corta)\n",
    "\n",
    "#6.2 Reemplaza \"Hoy\" por nada. Para ello usamos el método replace nuevamente almacenándolo en una nueva variable\n",
    "cambio_lista_corta = string_lista_corta.replace('Hoy', ' ')\n",
    "print(cambio_lista_corta)\n",
    "\n",
    "#6.3 El ejercicio anterior nos ha dejado espacios al inicio del string, eliminalos\n",
    "lista_corta_final = cambio_lista_corta.strip()\n",
    "print(lista_corta_final)\n",
    "\n",
    "#IMPORTANTE: En todos los métodos de string debemos crear nuevas variables para que se guarde el cambio."
   ]
  },
  {
   "attachments": {},
   "cell_type": "markdown",
   "metadata": {},
   "source": [
    "**Encuentra el número que no está en la lista**\n",
    "\n",
    "Tenemos una lista desordenada con números positivos de 1 a n. Siempre faltará un sólo número de esta lista aleatoria, ¿cómo identifico cuál falta? Cread un programa para que este código devuelva los resultados deseados:\n",
    "\n",
    "```python\n",
    "lista1 = [3,7,1,2,8,4,5] # nos tiene que devolver 6\n",
    "lista2 = [4,6,1,3,5] #  nos tiene que devolver 2\n",
    "lista3 = [34,35,36,38,39,40] # nos tiene que devolver 37\n",
    "```\n",
    "\n",
    "BONUS: Introduce los resultados obtenidos en un diccionario, indicando que numero falta para cada una de las listas:\n",
    "```python\n",
    "# por ejemplo\n",
    "\n",
    "resultados = {'falta_lista_1': valor_numerico_1, 'falta_lista_2': valor_numerico_2, 'falta_lista_3': valor_numerico_3}\n",
    "```"
   ]
  },
  {
   "cell_type": "code",
   "execution_count": 12,
   "metadata": {},
   "outputs": [],
   "source": [
    "lista1 = [3,7,1,2,8,4,5]\n",
    "lista2 = [4,6,1,3,5] \n",
    "lista3 = [34,35,36,38,39,40]"
   ]
  },
  {
   "cell_type": "code",
   "execution_count": 14,
   "metadata": {},
   "outputs": [],
   "source": [
    "# creamos el diccionario con keys pero sin los values, que iremos introduciendo después\n",
    "resultados = {'falta_lista_1': '', 'falta_lista_2': '', 'falta_lista_3': ''}"
   ]
  },
  {
   "cell_type": "code",
   "execution_count": 17,
   "metadata": {},
   "outputs": [],
   "source": [
    "#creamos un bucle for para la primera lista\n",
    "for num1 in range(min(lista1),max(lista1) +1) :\n",
    "    if num1 not in lista1:\n",
    "        resultados['falta_lista_1'] = num1\n",
    "    else:\n",
    "        pass\n",
    "\n",
    "#igual para la segunda, cambiando el range() que pedimos\n",
    "for num2 in range(min(lista2), max(lista2)+1):\n",
    "    if num2 not in lista2:\n",
    "        resultados['falta_lista_2'] = num2\n",
    "    else:\n",
    "        pass\n",
    "\n",
    "# y para la tercera lista\n",
    "for num3 in range(min(lista3),max(lista3)+1):\n",
    "    if num3 not in lista3:\n",
    "        resultados['falta_lista_3'] = num3\n",
    "    else:\n",
    "        pass\n",
    "    \n",
    "# En los tres casos creamos el range utilizando el min y max de la lista para que, aunque cambiara la lista, el programa siguiera funcionando.\n",
    "# podríamos obtener el mismo reusltado utilizando los índices. Por ejemplo para lista1 tendríamos que usar range(3, 9)"
   ]
  },
  {
   "cell_type": "code",
   "execution_count": 18,
   "metadata": {},
   "outputs": [
    {
     "name": "stdout",
     "output_type": "stream",
     "text": [
      "{'falta_lista_1': 6, 'falta_lista_2': 2, 'falta_lista_3': 37}\n"
     ]
    }
   ],
   "source": [
    "# imprimimos los resultados para comprobar que el resultado es correcto\n",
    "print(resultados)"
   ]
  },
  {
   "cell_type": "markdown",
   "metadata": {},
   "source": [
    "**Mover los ceros a la izquierda**\n",
    "\n",
    "Nos dan un *string* con números aleatorios. Algunos de ellos son 0. Encuentra todos los ceros y ponlos al principio de la lista, manteniendo el orden de los demás números.\n",
    "\n",
    "Ejemplo:\n",
    "\n",
    "```python\n",
    "A = [1,10,88,0,59,63,0,20,0]\n",
    "\n",
    "# tiene que devolver\n",
    "[0, 0, 0, 1, 10, 88, 59, 63, 20]\n",
    "```"
   ]
  },
  {
   "cell_type": "code",
   "execution_count": 19,
   "metadata": {},
   "outputs": [],
   "source": [
    "# Nos dan una lista formada por integers\n",
    "A = [1,10,88,0,59,63,0,20,0]"
   ]
  },
  {
   "cell_type": "code",
   "execution_count": 20,
   "metadata": {},
   "outputs": [
    {
     "name": "stdout",
     "output_type": "stream",
     "text": [
      "lista_ceros = [0, 0, 0]\n",
      "A = [1, 10, 88, 59, 63, 20]\n"
     ]
    }
   ],
   "source": [
    "# lo primero que vamos a hacer va a ser crear una nueva lista para almacenar los 0 todos juntos y sacarlos de la lista A\n",
    "lista_ceros = []\n",
    "\n",
    "# ahora creamos un bucle for que lleve los ceros a la lista nueva y los elimine de la lista A\n",
    "for numero in A:\n",
    "    if numero == 0:\n",
    "        lista_ceros.append(numero)\n",
    "        A.remove(numero)\n",
    "    else:\n",
    "        pass\n",
    "\n",
    "# y printeamos ambas para ver que todo está correcto\n",
    "print('lista_ceros =', lista_ceros)\n",
    "print('A =', A)\n"
   ]
  },
  {
   "cell_type": "code",
   "execution_count": 21,
   "metadata": {},
   "outputs": [],
   "source": [
    "#finalmente fusionamos las dos listas. Para que tenga el orden que queremos, partimos de la lista de 0 y la extendemos con los elementos de A\n",
    "lista_ceros.extend(A)\n",
    "A = lista_ceros\n",
    "\n",
    "# IMPORTANTE: Hay que tener cuidado con las acciones de lista como .extend() porque cada vez que pulsemos **run** el añadido se irá sumando"
   ]
  },
  {
   "cell_type": "code",
   "execution_count": 22,
   "metadata": {},
   "outputs": [
    {
     "name": "stdout",
     "output_type": "stream",
     "text": [
      "[0, 0, 0, 1, 10, 88, 59, 63, 20]\n"
     ]
    }
   ],
   "source": [
    "# y printeamos para comprobar que el resultado es correcto\n",
    "print(A)"
   ]
  },
  {
   "cell_type": "markdown",
   "metadata": {},
   "source": [
    "**Invertir palabras de una frase**\n",
    "\n",
    "Nos dan una frase en que quieren que las letras de cada palabra acaben teniendo el orden invertido, manteniendo el orden de las palabras.\n",
    "\n",
    "```python\n",
    "frase = 'Hola Ada'\n",
    "print(frase) # nos daría 'aloH adA'\n",
    "```"
   ]
  },
  {
   "cell_type": "code",
   "execution_count": 28,
   "metadata": {},
   "outputs": [
    {
     "name": "stdout",
     "output_type": "stream",
     "text": [
      "Hola Ada\n",
      "['Hola', 'Ada']\n",
      "['H', 'o', 'l', 'a'] ['A', 'd', 'a']\n",
      "['a', 'l', 'o', 'H'] ['a', 'd', 'A']\n",
      "aloH adA\n"
     ]
    }
   ],
   "source": [
    "frase = 'Hola Ada'\n",
    "# primero convertimos a mayúsculas las primeras letras de cada palabra\n",
    "frase2 = frase.title()\n",
    "print(frase2)\n",
    "\n",
    "# después, separamos el string en una lista de dos strings\n",
    "frase_lista = frase2.split()\n",
    "print(frase_lista)\n",
    "\n",
    "# separamos las letras de cada palabra de la lista para poder reordenarlas con el metodo list (creamos una nueva variable guardarnos las espaldas ante posibles errores)\n",
    "frase_lista2 = frase_lista.copy()\n",
    "hola = list(frase_lista2[0])\n",
    "ada = list(frase_lista2[1])\n",
    "print(hola, ada)\n",
    "\n",
    "#a continuación invertimos el orden para cada uno de los strings\n",
    "hola.reverse()\n",
    "ada.reverse()\n",
    "print(hola, ada)\n",
    "\n",
    "# y volvemos a unir las letras de cada palabra con el nuevo orden\n",
    "hola = \"\".join(hola)\n",
    "ada = \"\".join(ada)\n",
    "\n",
    "# para terminar, unimos las dos palabras en una frase y lo convertimos a un string\n",
    "frase_final = (str(hola) + ' ' + str(ada))\n",
    "print(frase_final)\n"
   ]
  },
  {
   "attachments": {},
   "cell_type": "markdown",
   "metadata": {},
   "source": [
    "###  ¿Es un DNI valido?\n",
    "\n",
    "Los DNI españoles pueden ser:\n",
    "\n",
    "- NIF (Numero de Identificación Fiscal) - 8 numeros y una letra, o\n",
    "- NIE (Numero de Identificación de Extranjeros) - 1 letra, 7 numeros y 1 letra."
   ]
  },
  {
   "cell_type": "code",
   "execution_count": 65,
   "metadata": {},
   "outputs": [],
   "source": [
    "lista_dni = [\"X-1234567-Z\", \"X-1234567\", \"12345678-M\", \"1234567-T\", \"12345677\"] "
   ]
  },
  {
   "cell_type": "code",
   "execution_count": 62,
   "metadata": {},
   "outputs": [
    {
     "name": "stdout",
     "output_type": "stream",
     "text": [
      "El documento X-1234567-Z es un NIE válido\n",
      "El documento X-1234567 no es válido\n",
      "El documento 12345678-M es un DNI válido\n",
      "El documento 1234567-T no es válido\n",
      "El documento 12345677 no es válido\n"
     ]
    }
   ],
   "source": [
    "# creamos un bucle en el pediremos que nos devuelva que el DNI es válido si cumple 2 condiciones: \n",
    "# oue tenga 10 elmementos en total (contando el guion) y el penúltimo sea un '-' (que separa los 8 numeros iniciales de la letra final)\n",
    "# o bien que contenga 11 elementos en total y esta vez el guion se encuentra en segunda y penúltima posición, lo que marcaría que antes o después va una letra.\n",
    "# todos los demás serían documentos no válidos\n",
    "\n",
    "for dni in lista_dni:\n",
    "    if len(dni) == 10 and dni[-2] == '-':\n",
    "        print(f'El documento {dni} es un DNI válido')\n",
    "    # calculamos el los indices y saltos para que coja los '--'\n",
    "    elif len(dni) == 11 and dni[1:11:8] == '--':\n",
    "        print(f'El documento {dni} es un NIE válido')\n",
    "    else:\n",
    "        print(f'El documento {dni} no es válido')\n",
    "\n"
   ]
  },
  {
   "attachments": {},
   "cell_type": "markdown",
   "metadata": {},
   "source": [
    "**BONUS: Encuentra los k números más cerca a X**\n",
    "\n",
    "\n",
    "Haz una programa que compare los contenidos de una lista a un número dado X. Queremos que nos devuelva los k números que son más parecidos al número dado.\n",
    "\n",
    "Ejemplo:\n",
    "```python\n",
    "L = [4, 19, -5, 100, 53, 43, 74, -83, 13.5, 26]\n",
    "# Dados los siguientes valores \n",
    "x =30\n",
    "k = 3 # el número de números que tendremos que buscar en la lista que se parecen a 30 \n",
    "# El output debería ser igual a [26, 19, 43]\n",
    "```"
   ]
  },
  {
   "cell_type": "code",
   "execution_count": 103,
   "metadata": {},
   "outputs": [],
   "source": [
    "# creamos la lista y las variables\n",
    "L = [4, 19, -5, 100, 53, 43, 74, -83, 13.5, 26]\n",
    "x = 30\n",
    "k = 3"
   ]
  },
  {
   "cell_type": "code",
   "execution_count": 104,
   "metadata": {},
   "outputs": [
    {
     "name": "stdout",
     "output_type": "stream",
     "text": [
      "[26, 11, 35, 70, 23, 13, 44, 113, 16.5, 4]\n"
     ]
    }
   ],
   "source": [
    "#creamos una lista vacía\n",
    "lista_diferencia = []\n",
    "\n",
    "# creamos un bucle en el que nos calcule la distancia entre y nuestra variable x y los numeros de la lista, los convertimos todos a positivos y los incluimos en la lista\n",
    "for y in L:\n",
    "    diferencia = y - x\n",
    "    if diferencia >= 0:\n",
    "        lista_diferencia.append(diferencia)\n",
    "    elif diferencia < 0:\n",
    "        diferencia2 = -(diferencia)\n",
    "        lista_diferencia.append(diferencia2)\n",
    "        \n",
    "\n",
    "print(lista_diferencia)"
   ]
  },
  {
   "cell_type": "code",
   "execution_count": 105,
   "metadata": {},
   "outputs": [
    {
     "name": "stdout",
     "output_type": "stream",
     "text": [
      "[4, 19, -5, 100, 53, 43, 74, -83, 13.5, 26]\n",
      "[26, 11, 35, 70, 23, 13, 44, 113, 16.5, 4]\n"
     ]
    }
   ],
   "source": [
    "#ahora tenemos las dos listas:\n",
    "print(L)\n",
    "print(lista_diferencia)"
   ]
  },
  {
   "cell_type": "code",
   "execution_count": 112,
   "metadata": {},
   "outputs": [
    {
     "name": "stdout",
     "output_type": "stream",
     "text": [
      "[(26, 4), (11, 19), (35, -5), (70, 100), (23, 53), (13, 43), (44, 74), (113, -83), (16.5, 13.5), (4, 26)]\n"
     ]
    }
   ],
   "source": [
    "# las zipeamos y la convertimos a lista pero poniendo las diferencias primero para poder ordenarlas después\n",
    "L_zip = zip(lista_diferencia, L)\n",
    "L_diferencia = list(L_zip)\n",
    "print(L_diferencia)"
   ]
  },
  {
   "cell_type": "code",
   "execution_count": 129,
   "metadata": {},
   "outputs": [
    {
     "name": "stdout",
     "output_type": "stream",
     "text": [
      "[26, 19, 43]\n"
     ]
    }
   ],
   "source": [
    "#ordenamos y finalmente creamos una lista con los tres ultimos numeros\n",
    "L_diferencia.sort()\n",
    "L_intermedio = L_diferencia[:3]\n",
    "\n",
    "#estan en una tupla, asi que tenemos que convertirlos a llista para así poder eliminar los elementos del index 0\n",
    "Lista_final = []\n",
    "for x, y in L_intermedio:\n",
    "    Lista_final.append(y)\n",
    "\n",
    "\n",
    "# Y obtenemos por fin el resultado esperado:\n",
    "print(Lista_final)\n"
   ]
  }
 ],
 "metadata": {
  "kernelspec": {
   "display_name": "Python 3",
   "language": "python",
   "name": "python3"
  },
  "language_info": {
   "codemirror_mode": {
    "name": "ipython",
    "version": 3
   },
   "file_extension": ".py",
   "mimetype": "text/x-python",
   "name": "python",
   "nbconvert_exporter": "python",
   "pygments_lexer": "ipython3",
   "version": "3.10.9"
  },
  "orig_nbformat": 4,
  "vscode": {
   "interpreter": {
    "hash": "31f2aee4e71d21fbe5cf8b01ff0e069b9275f58929596ceb00d14d90e3e16cd6"
   }
  }
 },
 "nbformat": 4,
 "nbformat_minor": 2
}
